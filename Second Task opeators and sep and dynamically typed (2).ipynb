{
 "cells": [
  {
   "cell_type": "code",
   "execution_count": 1,
   "id": "d36fe86f",
   "metadata": {},
   "outputs": [
    {
     "name": "stdout",
     "output_type": "stream",
     "text": [
      "<class 'int'>\n",
      "<class 'str'>\n",
      "<class 'bool'>\n"
     ]
    }
   ],
   "source": [
    "#Dynamically Typed variable\n",
    "x=6     \n",
    "print(type(x))\n",
    "x='hello'   \n",
    "print(type(x))\n",
    "x=True\n",
    "print(type(x))"
   ]
  },
  {
   "cell_type": "code",
   "execution_count": 52,
   "id": "fc10382e",
   "metadata": {},
   "outputs": [
    {
     "name": "stdout",
     "output_type": "stream",
     "text": [
      "GF\n",
      "G\n",
      "09-12-2016\n",
      "prtkagarwal\n",
      "geeksforgeeks\n",
      "TestONETWO\n",
      "A-S-K-T-O-Y-O-U\n",
      "G F G\n",
      "GFG\n",
      "09-12-2016\n",
      "sep\n",
      "R A J\n",
      "Raj@Kumar\n",
      "R@J\n",
      "ASK@TO@YOU\n",
      "D-o- -s-o-m-e-t-h-i-n-g\n",
      "Rajkumar\n"
     ]
    }
   ],
   "source": [
    "#Sep Use this code\n",
    "print('G','F', sep='')\n",
    "print('G')\n",
    "print('09','12','2016', sep='-')\n",
    " \n",
    "print('prtk','agarwal', sep='')\n",
    "print('geeksforgeeks')\n",
    "a='Test','ONE', 'TWO'\n",
    "print(*a,sep='')\n",
    "\n",
    "#sep - use one \n",
    "a='ASK''TO''YOU'\n",
    "c='G F G'\n",
    "print(*a,sep='-')\n",
    "print(*c, sep='')\n",
    "print('G','F','G', sep='')\n",
    "#for formatting a date\n",
    "print('09','12','2016', sep='-')\n",
    "print(\"s\", \"e\", \"p\", sep=\"\")\n",
    "#another example\n",
    "print('R A J',sep='*')\n",
    "print('Raj','Kumar', sep='@')\n",
    "print('R','J',sep='@')\n",
    "print('ASK','TO','YOU',sep='@')\n",
    "f='Do something'\n",
    "print(*f,sep='-')\n",
    "e='Raj','kumar'\n",
    "print(*e,sep='')"
   ]
  },
  {
   "cell_type": "code",
   "execution_count": 51,
   "id": "fb925ae7",
   "metadata": {},
   "outputs": [
    {
     "name": "stdout",
     "output_type": "stream",
     "text": [
      "15\n",
      "5\n",
      "50\n",
      "2.0\n",
      "0\n",
      "2\n"
     ]
    }
   ],
   "source": [
    "#Operators\n",
    "#1.Arithematic Operators\n",
    "#+,-,*,/,%,//\n",
    "a=10 \n",
    "b=5\n",
    "print(a+b)\n",
    "print(a-b)\n",
    "print(a*b)\n",
    "print(a/b)\n",
    "print(a%b)\n",
    "print(a//b)"
   ]
  },
  {
   "cell_type": "code",
   "execution_count": 4,
   "id": "21869782",
   "metadata": {},
   "outputs": [
    {
     "ename": "TypeError",
     "evalue": "Value after * must be an iterable, not int",
     "output_type": "error",
     "traceback": [
      "\u001b[1;31m---------------------------------------------------------------------------\u001b[0m",
      "\u001b[1;31mTypeError\u001b[0m                                 Traceback (most recent call last)",
      "Input \u001b[1;32mIn [4]\u001b[0m, in \u001b[0;36m<cell line: 6>\u001b[1;34m()\u001b[0m\n\u001b[0;32m      4\u001b[0m b\u001b[38;5;241m=\u001b[39m\u001b[38;5;241m5\u001b[39m\n\u001b[0;32m      5\u001b[0m c\u001b[38;5;241m=\u001b[39m\u001b[38;5;241m0\u001b[39m\n\u001b[1;32m----> 6\u001b[0m \u001b[38;5;28mprint\u001b[39m(\u001b[38;5;241m*\u001b[39mc,a\u001b[38;5;241m+\u001b[39mb)\n\u001b[0;32m      7\u001b[0m \u001b[38;5;28mprint\u001b[39m(a\u001b[38;5;241m-\u001b[39mb)\n\u001b[0;32m      8\u001b[0m \u001b[38;5;28mprint\u001b[39m(a\u001b[38;5;241m*\u001b[39mb)\n",
      "\u001b[1;31mTypeError\u001b[0m: Value after * must be an iterable, not int"
     ]
    }
   ],
   "source": [
    "#2.Assignment Operators\n",
    "#\n",
    "a=10 \n",
    "b=5\n",
    "print(a+b)\n",
    "print(a-b)\n",
    "print(a*b)\n",
    "print(a/b)\n",
    "print(a%b)\n",
    "print(a//b)"
   ]
  },
  {
   "cell_type": "code",
   "execution_count": 38,
   "id": "b75069eb",
   "metadata": {},
   "outputs": [
    {
     "name": "stdout",
     "output_type": "stream",
     "text": [
      "A-S-K-T-O-Y-O-U\n",
      "G F G\n",
      "GFG\n",
      "09-12-2016\n",
      "sep\n",
      "R A J\n",
      "Raj@Kumar\n",
      "R@J\n",
      "ASK@TO@YOU\n",
      "D-o- -s-o-m-e-t-h-i-n-g\n",
      "Rajkumar\n"
     ]
    }
   ],
   "source": [
    "#sep - use one \n",
    "a='ASK''TO''YOU'\n",
    "c='G F G'\n",
    "print(*a,sep='-')\n",
    "print(*c, sep='')\n",
    "print('G','F','G', sep='')\n",
    "#for formatting a date\n",
    "print('09','12','2016', sep='-')\n",
    "print(\"s\", \"e\", \"p\", sep=\"\")\n",
    "#another example\n",
    "print('R A J',sep='*')\n",
    "print('Raj','Kumar', sep='@')\n",
    "print('R','J',sep='@')\n",
    "print('ASK','TO','YOU',sep='@')\n",
    "f='Do something'\n",
    "print(*f,sep='-')\n",
    "e='Raj','kumar'\n",
    "print(*e,sep='')"
   ]
  },
  {
   "cell_type": "code",
   "execution_count": 38,
   "id": "34c50ec1",
   "metadata": {},
   "outputs": [
    {
     "name": "stdout",
     "output_type": "stream",
     "text": [
      "A-S-K-T-O-Y-O-U\n",
      "G F G\n",
      "GFG\n",
      "09-12-2016\n",
      "sep\n",
      "R A J\n",
      "Raj@Kumar\n",
      "R@J\n",
      "ASK@TO@YOU\n",
      "D-o- -s-o-m-e-t-h-i-n-g\n",
      "Rajkumar\n"
     ]
    }
   ],
   "source": [
    "#sep - use one \n",
    "a='ASK''TO''YOU'\n",
    "c='G F G'\n",
    "print(*a,sep='-')\n",
    "print(*c, sep='')\n",
    "print('G','F','G', sep='')\n",
    "#for formatting a date\n",
    "print('09','12','2016', sep='-')\n",
    "print(\"s\", \"e\", \"p\", sep=\"\")\n",
    "#another example\n",
    "print('R A J',sep='*')\n",
    "print('Raj','Kumar', sep='@')\n",
    "print('R','J',sep='@')\n",
    "print('ASK','TO','YOU',sep='@')\n",
    "f='Do something'\n",
    "print(*f,sep='-')\n",
    "e='Raj','kumar'\n",
    "print(*e,sep='')"
   ]
  },
  {
   "cell_type": "code",
   "execution_count": 38,
   "id": "5f23fc69",
   "metadata": {},
   "outputs": [
    {
     "name": "stdout",
     "output_type": "stream",
     "text": [
      "A-S-K-T-O-Y-O-U\n",
      "G F G\n",
      "GFG\n",
      "09-12-2016\n",
      "sep\n",
      "R A J\n",
      "Raj@Kumar\n",
      "R@J\n",
      "ASK@TO@YOU\n",
      "D-o- -s-o-m-e-t-h-i-n-g\n",
      "Rajkumar\n"
     ]
    }
   ],
   "source": [
    "#sep - use one \n",
    "a='ASK''TO''YOU'\n",
    "c='G F G'\n",
    "print(*a,sep='-')\n",
    "print(*c, sep='')\n",
    "print('G','F','G', sep='')\n",
    "#for formatting a date\n",
    "print('09','12','2016', sep='-')\n",
    "print(\"s\", \"e\", \"p\", sep=\"\")\n",
    "#another example\n",
    "print('R A J',sep='*')\n",
    "print('Raj','Kumar', sep='@')\n",
    "print('R','J',sep='@')\n",
    "print('ASK','TO','YOU',sep='@')\n",
    "f='Do something'\n",
    "print(*f,sep='-')\n",
    "e='Raj','kumar'\n",
    "print(*e,sep='')"
   ]
  },
  {
   "cell_type": "code",
   "execution_count": 15,
   "id": "f143ad86",
   "metadata": {},
   "outputs": [
    {
     "name": "stdout",
     "output_type": "stream",
     "text": [
      "2\n",
      "4\n",
      "0\n",
      "4\n",
      "1.0\n",
      "0\n",
      "1\n",
      "16\n"
     ]
    }
   ],
   "source": [
    "#Assignment Operators\n",
    "#=,+=,-=,*=,/=,%=,//=,**=\n",
    "a=10\n",
    "b=2\n",
    "c=a=b\n",
    "print(c)\n",
    "#e=(a+=b)\n",
    "e=a+b\n",
    "print(e)\n",
    "#f=(a-=b)\n",
    "f=a-b\n",
    "print(f)\n",
    "#d=(a*=b)\n",
    "d=a*b\n",
    "print(d)\n",
    "#g=(a/=b)\n",
    "g=a/b\n",
    "print(g)\n",
    "#h=(a%=b)\n",
    "h=a%b\n",
    "print(h)\n",
    "#i=(a//=b)\n",
    "i=a//b\n",
    "print(i)\n",
    "#j=(a**=b)\n",
    "j **=c\n",
    "print(j)"
   ]
  },
  {
   "cell_type": "code",
   "execution_count": 23,
   "id": "d786e440",
   "metadata": {},
   "outputs": [
    {
     "name": "stdout",
     "output_type": "stream",
     "text": [
      "False\n",
      "True\n",
      "True\n",
      "False\n",
      "True\n",
      "False\n"
     ]
    }
   ],
   "source": [
    "#comparison Operators\n",
    "#1.==\n",
    "x = 5\n",
    "y = 3\n",
    "print(x == y)\n",
    "#2.!=\n",
    "print(x != y)\n",
    "#3.>\n",
    "print(x > y)\n",
    "#4.<\n",
    "print(x < y)\n",
    "#5.>=\n",
    "print(x >= y)\n",
    "#6.<=\n",
    "print(x <= y)"
   ]
  },
  {
   "cell_type": "code",
   "execution_count": null,
   "id": "c6b836b8",
   "metadata": {},
   "outputs": [],
   "source": []
  }
 ],
 "metadata": {
  "kernelspec": {
   "display_name": "Python 3 (ipykernel)",
   "language": "python",
   "name": "python3"
  },
  "language_info": {
   "codemirror_mode": {
    "name": "ipython",
    "version": 3
   },
   "file_extension": ".py",
   "mimetype": "text/x-python",
   "name": "python",
   "nbconvert_exporter": "python",
   "pygments_lexer": "ipython3",
   "version": "3.9.12"
  }
 },
 "nbformat": 4,
 "nbformat_minor": 5
}
