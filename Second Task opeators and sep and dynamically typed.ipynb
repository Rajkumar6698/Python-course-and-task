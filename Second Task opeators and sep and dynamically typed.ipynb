{
 "cells": [
  {
   "cell_type": "code",
   "execution_count": 1,
   "id": "d36fe86f",
   "metadata": {},
   "outputs": [
    {
     "name": "stdout",
     "output_type": "stream",
     "text": [
      "<class 'int'>\n",
      "<class 'str'>\n",
      "<class 'bool'>\n"
     ]
    }
   ],
   "source": [
    "#Dynamically Typed variable\n",
    "x=6     \n",
    "print(type(x))\n",
    "x='hello'   \n",
    "print(type(x))\n",
    "x=True\n",
    "print(type(x))"
   ]
  },
  {
   "cell_type": "code",
   "execution_count": 52,
   "id": "fc10382e",
   "metadata": {},
   "outputs": [
    {
     "name": "stdout",
     "output_type": "stream",
     "text": [
      "GF\n",
      "G\n",
      "09-12-2016\n",
      "prtkagarwal\n",
      "geeksforgeeks\n",
      "TestONETWO\n",
      "A-S-K-T-O-Y-O-U\n",
      "G F G\n",
      "GFG\n",
      "09-12-2016\n",
      "sep\n",
      "R A J\n",
      "Raj@Kumar\n",
      "R@J\n",
      "ASK@TO@YOU\n",
      "D-o- -s-o-m-e-t-h-i-n-g\n",
      "Rajkumar\n"
     ]
    }
   ],
   "source": [
    "#Sep Use this code\n",
    "print('G','F', sep='')\n",
    "print('G')\n",
    "print('09','12','2016', sep='-')\n",
    " \n",
    "print('prtk','agarwal', sep='')\n",
    "print('geeksforgeeks')\n",
    "a='Test','ONE', 'TWO'\n",
    "print(*a,sep='')\n",
    "\n",
    "#sep - use one \n",
    "a='ASK''TO''YOU'\n",
    "c='G F G'\n",
    "print(*a,sep='-')\n",
    "print(*c, sep='')\n",
    "print('G','F','G', sep='')\n",
    "#for formatting a date\n",
    "print('09','12','2016', sep='-')\n",
    "print(\"s\", \"e\", \"p\", sep=\"\")\n",
    "#another example\n",
    "print('R A J',sep='*')\n",
    "print('Raj','Kumar', sep='@')\n",
    "print('R','J',sep='@')\n",
    "print('ASK','TO','YOU',sep='@')\n",
    "f='Do something'\n",
    "print(*f,sep='-')\n",
    "e='Raj','kumar'\n",
    "print(*e,sep='')"
   ]
  },
  {
   "cell_type": "code",
   "execution_count": 51,
   "id": "fb925ae7",
   "metadata": {},
   "outputs": [
    {
     "name": "stdout",
     "output_type": "stream",
     "text": [
      "15\n",
      "5\n",
      "50\n",
      "2.0\n",
      "0\n",
      "2\n"
     ]
    }
   ],
   "source": [
    "#Operators\n",
    "#1.Arithematic Operators\n",
    "#+,-,*,/,%,//\n",
    "a=10 \n",
    "b=5\n",
    "print(a+b)\n",
    "print(a-b)\n",
    "print(a*b)\n",
    "print(a/b)\n",
    "print(a%b)\n",
    "print(a//b)"
   ]
  },
  {
   "cell_type": "code",
   "execution_count": 53,
   "id": "21869782",
   "metadata": {},
   "outputs": [
    {
     "name": "stdout",
     "output_type": "stream",
     "text": [
      "15\n",
      "5\n",
      "50\n",
      "2.0\n",
      "0\n",
      "2\n"
     ]
    }
   ],
   "source": [
    "#2.Assignment Operators\n",
    "#\n",
    "a=10 \n",
    "b=5\n",
    "print(a+b)\n",
    "print(a-b)\n",
    "print(a*b)\n",
    "print(a/b)\n",
    "print(a%b)\n",
    "print(a//b)"
   ]
  },
  {
   "cell_type": "code",
   "execution_count": 38,
   "id": "b75069eb",
   "metadata": {},
   "outputs": [
    {
     "name": "stdout",
     "output_type": "stream",
     "text": [
      "A-S-K-T-O-Y-O-U\n",
      "G F G\n",
      "GFG\n",
      "09-12-2016\n",
      "sep\n",
      "R A J\n",
      "Raj@Kumar\n",
      "R@J\n",
      "ASK@TO@YOU\n",
      "D-o- -s-o-m-e-t-h-i-n-g\n",
      "Rajkumar\n"
     ]
    }
   ],
   "source": [
    "#sep - use one \n",
    "a='ASK''TO''YOU'\n",
    "c='G F G'\n",
    "print(*a,sep='-')\n",
    "print(*c, sep='')\n",
    "print('G','F','G', sep='')\n",
    "#for formatting a date\n",
    "print('09','12','2016', sep='-')\n",
    "print(\"s\", \"e\", \"p\", sep=\"\")\n",
    "#another example\n",
    "print('R A J',sep='*')\n",
    "print('Raj','Kumar', sep='@')\n",
    "print('R','J',sep='@')\n",
    "print('ASK','TO','YOU',sep='@')\n",
    "f='Do something'\n",
    "print(*f,sep='-')\n",
    "e='Raj','kumar'\n",
    "print(*e,sep='')"
   ]
  },
  {
   "cell_type": "code",
   "execution_count": 38,
   "id": "34c50ec1",
   "metadata": {},
   "outputs": [
    {
     "name": "stdout",
     "output_type": "stream",
     "text": [
      "A-S-K-T-O-Y-O-U\n",
      "G F G\n",
      "GFG\n",
      "09-12-2016\n",
      "sep\n",
      "R A J\n",
      "Raj@Kumar\n",
      "R@J\n",
      "ASK@TO@YOU\n",
      "D-o- -s-o-m-e-t-h-i-n-g\n",
      "Rajkumar\n"
     ]
    }
   ],
   "source": [
    "#sep - use one \n",
    "a='ASK''TO''YOU'\n",
    "c='G F G'\n",
    "print(*a,sep='-')\n",
    "print(*c, sep='')\n",
    "print('G','F','G', sep='')\n",
    "#for formatting a date\n",
    "print('09','12','2016', sep='-')\n",
    "print(\"s\", \"e\", \"p\", sep=\"\")\n",
    "#another example\n",
    "print('R A J',sep='*')\n",
    "print('Raj','Kumar', sep='@')\n",
    "print('R','J',sep='@')\n",
    "print('ASK','TO','YOU',sep='@')\n",
    "f='Do something'\n",
    "print(*f,sep='-')\n",
    "e='Raj','kumar'\n",
    "print(*e,sep='')"
   ]
  },
  {
   "cell_type": "code",
   "execution_count": 38,
   "id": "5f23fc69",
   "metadata": {},
   "outputs": [
    {
     "name": "stdout",
     "output_type": "stream",
     "text": [
      "A-S-K-T-O-Y-O-U\n",
      "G F G\n",
      "GFG\n",
      "09-12-2016\n",
      "sep\n",
      "R A J\n",
      "Raj@Kumar\n",
      "R@J\n",
      "ASK@TO@YOU\n",
      "D-o- -s-o-m-e-t-h-i-n-g\n",
      "Rajkumar\n"
     ]
    }
   ],
   "source": [
    "#sep - use one \n",
    "a='ASK''TO''YOU'\n",
    "c='G F G'\n",
    "print(*a,sep='-')\n",
    "print(*c, sep='')\n",
    "print('G','F','G', sep='')\n",
    "#for formatting a date\n",
    "print('09','12','2016', sep='-')\n",
    "print(\"s\", \"e\", \"p\", sep=\"\")\n",
    "#another example\n",
    "print('R A J',sep='*')\n",
    "print('Raj','Kumar', sep='@')\n",
    "print('R','J',sep='@')\n",
    "print('ASK','TO','YOU',sep='@')\n",
    "f='Do something'\n",
    "print(*f,sep='-')\n",
    "e='Raj','kumar'\n",
    "print(*e,sep='')"
   ]
  }
 ],
 "metadata": {
  "kernelspec": {
   "display_name": "Python 3 (ipykernel)",
   "language": "python",
   "name": "python3"
  },
  "language_info": {
   "codemirror_mode": {
    "name": "ipython",
    "version": 3
   },
   "file_extension": ".py",
   "mimetype": "text/x-python",
   "name": "python",
   "nbconvert_exporter": "python",
   "pygments_lexer": "ipython3",
   "version": "3.9.12"
  }
 },
 "nbformat": 4,
 "nbformat_minor": 5
}
