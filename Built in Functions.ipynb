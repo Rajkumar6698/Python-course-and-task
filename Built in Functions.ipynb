{
 "cells": [
  {
   "cell_type": "code",
   "execution_count": 10,
   "id": "286ded38",
   "metadata": {},
   "outputs": [
    {
     "name": "stdout",
     "output_type": "stream",
     "text": [
      "10.1\n",
      "110.111\n"
     ]
    }
   ],
   "source": [
    "#Build In Functions\n",
    "#1.abs() --> returns the value absolute numbers\n",
    "x = abs(10.10)\n",
    "print(x)\n",
    "\n",
    "y = abs(-110.111000)\n",
    "print(y)"
   ]
  },
  {
   "cell_type": "code",
   "execution_count": 18,
   "id": "c00c9bc7",
   "metadata": {},
   "outputs": [
    {
     "name": "stdout",
     "output_type": "stream",
     "text": [
      "True\n",
      "False\n",
      "False\n",
      "True\n"
     ]
    }
   ],
   "source": [
    "#2.all() --> returns the value of true or false  (any one of the value is false means result is false)\n",
    "x=[1,1,1]\n",
    "y=all(x)\n",
    "print(y)\n",
    "\n",
    "x=[1,0,1]\n",
    "y=all(x)\n",
    "print(y)\n",
    "\n",
    "x=[False,True,False]\n",
    "y=all(x)\n",
    "print(y)\n",
    "\n",
    "x=[]\n",
    "y=all(x)\n",
    "print(y)\n"
   ]
  },
  {
   "cell_type": "code",
   "execution_count": 17,
   "id": "0e244279",
   "metadata": {},
   "outputs": [
    {
     "name": "stdout",
     "output_type": "stream",
     "text": [
      "True\n",
      "True\n",
      "False\n"
     ]
    }
   ],
   "source": [
    "#3.any() function --> returns the value of true or false (any one of the value is true means result is true)\n",
    "a = [False, True, False]\n",
    "x = any(a)\n",
    "print(x)\n",
    "\n",
    "b = [1, 0, 0]\n",
    "x = any(b)\n",
    "print(x)\n",
    "\n",
    "c = []\n",
    "x = any(c)\n",
    "print(x)\n"
   ]
  },
  {
   "cell_type": "code",
   "execution_count": 21,
   "id": "2a0d712c",
   "metadata": {},
   "outputs": [
    {
     "name": "stdout",
     "output_type": "stream",
     "text": [
      "'My nam\\xf6e is R\\xe5j'\n",
      "'My nam\\xf6e \\u0930\\u093e\\u091c'\n"
     ]
    }
   ],
   "source": [
    "#ascii function -->different character should be changed\n",
    "x = ascii(\"My namöe is Råj\")\n",
    "print(x)\n",
    "\n",
    "y=ascii(\"My namöe राज\")\n",
    "print(y)"
   ]
  },
  {
   "cell_type": "code",
   "execution_count": 24,
   "id": "2693d31d",
   "metadata": {},
   "outputs": [
    {
     "name": "stdout",
     "output_type": "stream",
     "text": [
      "0b1010\n",
      "0b10000\n"
     ]
    }
   ],
   "source": [
    "#bin() function -->return value in binary convertion\n",
    "# The result will always have the prefix 0b\n",
    "x = bin(10)\n",
    "print(x)\n",
    "\n",
    "y=bin(16)\n",
    "print(y)\n"
   ]
  },
  {
   "cell_type": "code",
   "execution_count": 29,
   "id": "ab85c903",
   "metadata": {},
   "outputs": [
    {
     "name": "stdout",
     "output_type": "stream",
     "text": [
      "True\n",
      "False\n",
      "False\n"
     ]
    }
   ],
   "source": [
    "#bool --> return a value of true or false\n",
    "x = bool(1)\n",
    "print(x)\n",
    "y = bool(0)\n",
    "print(y)\n",
    "y = bool()\n",
    "print(y)"
   ]
  },
  {
   "cell_type": "code",
   "execution_count": 31,
   "id": "baec17d0",
   "metadata": {},
   "outputs": [
    {
     "name": "stdout",
     "output_type": "stream",
     "text": [
      "10\n",
      "12\n"
     ]
    }
   ],
   "source": [
    "#int() function \n",
    "x=int(10.885554575)\n",
    "print(x)\n",
    "x = int(\"12\")\n",
    "print(x)"
   ]
  },
  {
   "cell_type": "code",
   "execution_count": 36,
   "id": "3b0fbf96",
   "metadata": {},
   "outputs": [
    {
     "name": "stdout",
     "output_type": "stream",
     "text": [
      "5\n",
      "3\n"
     ]
    }
   ],
   "source": [
    "#len() function \n",
    "x = len(\"Hello\")\n",
    "print(x)\n",
    "\n",
    "y= [\"Hello\",\"test\",\"teadsf\"]\n",
    "z=len(y)\n",
    "print(z)"
   ]
  },
  {
   "cell_type": "code",
   "execution_count": 38,
   "id": "caad4de5",
   "metadata": {},
   "outputs": [
    {
     "name": "stdout",
     "output_type": "stream",
     "text": [
      "10\n",
      "200\n"
     ]
    }
   ],
   "source": [
    "#max()\n",
    "c = max(5, 10)\n",
    "print(c)\n",
    "d=max(70,90,101,200,100)\n",
    "print(d)\n"
   ]
  },
  {
   "cell_type": "code",
   "execution_count": 40,
   "id": "0aa8991f",
   "metadata": {},
   "outputs": [
    {
     "name": "stdout",
     "output_type": "stream",
     "text": [
      "5\n",
      "70\n"
     ]
    }
   ],
   "source": [
    "#min()\n",
    "c = min(5, 10)\n",
    "print(c)\n",
    "d=min(70,90,101,200,100)\n",
    "print(d)"
   ]
  },
  {
   "cell_type": "code",
   "execution_count": 44,
   "id": "7778cb4a",
   "metadata": {},
   "outputs": [
    {
     "name": "stdout",
     "output_type": "stream",
     "text": [
      "3.0\n",
      "30.121\n",
      "3.5\n"
     ]
    }
   ],
   "source": [
    "#float()\n",
    "a = float(3)\n",
    "print(a)\n",
    "b = float(30.1210)\n",
    "print(b)\n",
    "c = float(\"3.500\")\n",
    "print(c)"
   ]
  },
  {
   "cell_type": "code",
   "execution_count": 48,
   "id": "0267b359",
   "metadata": {},
   "outputs": [
    {
     "name": "stdout",
     "output_type": "stream",
     "text": [
      "bytearray(b'\\x00\\x00\\x00\\x00')\n",
      "bytearray(b'\\x00\\x00\\x00\\x00\\x00\\x00')\n",
      "b'\\x00\\x00\\x00\\x00'\n"
     ]
    }
   ],
   "source": [
    "#bytearray() function\n",
    "a= bytearray(4)\n",
    "print(a)\n",
    "\n",
    "b=bytearray(6)\n",
    "print(b)\n",
    "\n",
    "#bytes() function\n",
    "t = bytes(4)\n",
    "print(t)"
   ]
  },
  {
   "cell_type": "code",
   "execution_count": 51,
   "id": "973233c9",
   "metadata": {},
   "outputs": [
    {
     "name": "stdout",
     "output_type": "stream",
     "text": [
      "A\n",
      "B\n",
      "C\n",
      "D\n"
     ]
    }
   ],
   "source": [
    "#chr() function ---> print the letter of A to Z and a to z \n",
    "x = chr(65)\n",
    "print(x)\n",
    "x = chr(66)\n",
    "print(x)\n",
    "x = chr(67)\n",
    "print(x)\n",
    "x = chr(68)\n",
    "print(x)\n"
   ]
  },
  {
   "cell_type": "code",
   "execution_count": 53,
   "id": "e87a61d4",
   "metadata": {},
   "outputs": [
    {
     "name": "stdout",
     "output_type": "stream",
     "text": [
      "Hello World\n"
     ]
    }
   ],
   "source": [
    "#print function\n",
    "print(\"Hello World\")"
   ]
  },
  {
   "cell_type": "code",
   "execution_count": 57,
   "id": "07a9b7e4",
   "metadata": {},
   "outputs": [
    {
     "name": "stdout",
     "output_type": "stream",
     "text": [
      "apple\n",
      "banana\n",
      "cherry\n"
     ]
    }
   ],
   "source": [
    "#iter function\n",
    "x = iter([\"apple\", \"banana\", \"cherry\"])\n",
    "print(next(x))\n",
    "print(next(x))\n",
    "print(next(x))"
   ]
  },
  {
   "cell_type": "code",
   "execution_count": 62,
   "id": "50cbd997",
   "metadata": {},
   "outputs": [
    {
     "name": "stdout",
     "output_type": "stream",
     "text": [
      "apple\n",
      "banana\n",
      "cherry\n"
     ]
    }
   ],
   "source": [
    "#next() Function\n",
    "mylist = iter([\"apple\", \"banana\", \"cherry\"])\n",
    "x = next(mylist)\n",
    "print(x)\n",
    "y = next(mylist)\n",
    "print(y)\n",
    "z = next(mylist)\n",
    "print(z)"
   ]
  },
  {
   "cell_type": "code",
   "execution_count": 66,
   "id": "34b6a9db",
   "metadata": {},
   "outputs": [
    {
     "name": "stdout",
     "output_type": "stream",
     "text": [
      "Enter your name:\n",
      "Rajkumar\n",
      "Hello, welcome to Rajkumar\n"
     ]
    }
   ],
   "source": [
    "#input() function\n",
    "print(\"Enter your name:\")\n",
    "y = input()\n",
    "print(\"Hello, welcome to \" + y)"
   ]
  },
  {
   "cell_type": "code",
   "execution_count": 69,
   "id": "364b9d6c",
   "metadata": {},
   "outputs": [
    {
     "name": "stdout",
     "output_type": "stream",
     "text": [
      "ff\n",
      "377\n",
      "11111111\n"
     ]
    }
   ],
   "source": [
    "#format()\n",
    "x = format(255, 'x')\n",
    "print(x)\n",
    "y = format(255, 'o')\n",
    "print(y)\n",
    "z= format(255, 'b')\n",
    "print(z)"
   ]
  },
  {
   "cell_type": "code",
   "execution_count": 82,
   "id": "d990454d",
   "metadata": {},
   "outputs": [
    {
     "name": "stdout",
     "output_type": "stream",
     "text": [
      "range(0, 6)\n",
      "0\n",
      "1\n",
      "2\n",
      "3\n",
      "4\n",
      "5\n",
      "-----\n",
      "3\n",
      "5\n",
      "7\n",
      "9\n",
      "11\n",
      "13\n"
     ]
    }
   ],
   "source": [
    "#range() Function\n",
    "x=range(6)\n",
    "print(x)\n",
    "y=range(6)\n",
    "for n in y:\n",
    "    print(n)    \n",
    "print('-----')\n",
    "z=range(3,15,2)\n",
    "for n in z:\n",
    "      print(n)"
   ]
  },
  {
   "cell_type": "code",
   "execution_count": 98,
   "id": "3b9dfc29",
   "metadata": {},
   "outputs": [
    {
     "name": "stdout",
     "output_type": "stream",
     "text": [
      "d\n",
      "c\n",
      "b\n",
      "a\n",
      "-----\n",
      "A\n",
      "B\n",
      "C\n",
      "D\n",
      "E\n",
      "F\n",
      "G\n",
      "H\n",
      "I\n"
     ]
    }
   ],
   "source": [
    "#reversed() Function\n",
    "a = [\"a\", \"b\", \"c\", \"d\"]\n",
    "b = reversed(a)\n",
    "for x in b:\n",
    "     print(x)\n",
    "print('-----')\n",
    "e=[\"I\",\"H\",\"G\",\"F\",\"E\",\"D\",\"C\",\"B\",\"A\"]\n",
    "f=reversed(e)\n",
    "for i in f:\n",
    "    print(i)"
   ]
  },
  {
   "cell_type": "code",
   "execution_count": 104,
   "id": "fa761ebf",
   "metadata": {},
   "outputs": [
    {
     "name": "stdout",
     "output_type": "stream",
     "text": [
      "['a', 'b', 'c', 'd', 'e', 'f', 'g', 'h']\n",
      "['h', 'g', 'f', 'e', 'd', 'c', 'b', 'a']\n",
      "[1, 2, 11]\n"
     ]
    }
   ],
   "source": [
    "#sorted function\n",
    "a = (\"b\", \"g\", \"a\", \"d\", \"f\", \"c\", \"h\", \"e\")\n",
    "x = sorted(a)\n",
    "print(x)\n",
    "a = (\"b\", \"g\", \"a\", \"d\", \"f\", \"c\", \"h\", \"e\")\n",
    "x = sorted(a,reverse=True)\n",
    "print(x)\n",
    "a = (1, 11, 2)\n",
    "x = sorted(a)\n",
    "print(x)"
   ]
  },
  {
   "cell_type": "code",
   "execution_count": 103,
   "id": "e1644660",
   "metadata": {},
   "outputs": [
    {
     "name": "stdout",
     "output_type": "stream",
     "text": [
      "3.5\n",
      "12\n"
     ]
    }
   ],
   "source": [
    "#str function\n",
    "x = str(3.5)\n",
    "print(x)\n",
    "x = int(\"12\")\n",
    "print(x)"
   ]
  },
  {
   "cell_type": "code",
   "execution_count": 106,
   "id": "36d6ffaa",
   "metadata": {},
   "outputs": [
    {
     "name": "stdout",
     "output_type": "stream",
     "text": [
      "<class 'complex'>\n",
      "<class 'str'>\n",
      "<class 'int'>\n"
     ]
    }
   ],
   "source": [
    "#type() function\n",
    "a = 5j\n",
    "b = \"Hello World\"\n",
    "c = 33\n",
    "x = type(a)\n",
    "y = type(b)\n",
    "z = type(c)\n",
    "print(x)\n",
    "print(y)\n",
    "print(z)"
   ]
  },
  {
   "cell_type": "code",
   "execution_count": 111,
   "id": "9f0bea13",
   "metadata": {},
   "outputs": [
    {
     "name": "stdout",
     "output_type": "stream",
     "text": [
      "15\n",
      "15\n"
     ]
    }
   ],
   "source": [
    "#sum() function\n",
    "a = (1, 2, 3, 4, 5)\n",
    "x = sum(a)\n",
    "print(x)\n",
    "b=(3,2,10)\n",
    "b=sum(b)\n",
    "print(b)"
   ]
  }
 ],
 "metadata": {
  "kernelspec": {
   "display_name": "Python 3 (ipykernel)",
   "language": "python",
   "name": "python3"
  },
  "language_info": {
   "codemirror_mode": {
    "name": "ipython",
    "version": 3
   },
   "file_extension": ".py",
   "mimetype": "text/x-python",
   "name": "python",
   "nbconvert_exporter": "python",
   "pygments_lexer": "ipython3",
   "version": "3.9.12"
  }
 },
 "nbformat": 4,
 "nbformat_minor": 5
}
