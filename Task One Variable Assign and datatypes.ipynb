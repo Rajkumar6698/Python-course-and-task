{
 "cells": [
  {
   "cell_type": "code",
   "execution_count": 10,
   "id": "672a7109",
   "metadata": {},
   "outputs": [
    {
     "name": "stdout",
     "output_type": "stream",
     "text": [
      "coffee\n"
     ]
    }
   ],
   "source": [
    "coffee_cup = 'coffee'\n",
    "print (coffee_cup)\n"
   ]
  },
  {
   "cell_type": "code",
   "execution_count": 29,
   "id": "5a1d0f1a",
   "metadata": {},
   "outputs": [
    {
     "ename": "SyntaxError",
     "evalue": "invalid syntax (368980285.py, line 6)",
     "output_type": "error",
     "traceback": [
      "\u001b[1;36m  Input \u001b[1;32mIn [29]\u001b[1;36m\u001b[0m\n\u001b[1;33m    print(!C)\u001b[0m\n\u001b[1;37m          ^\u001b[0m\n\u001b[1;31mSyntaxError\u001b[0m\u001b[1;31m:\u001b[0m invalid syntax\n"
     ]
    }
   ],
   "source": [
    "#_ and __ to be assign a variable name\n",
    "coffee__cup = 'coffee'\n",
    "print (coffee__cup)\n",
    "\n",
    "!c=10\n",
    "print(!C)\n"
   ]
  },
  {
   "cell_type": "code",
   "execution_count": 12,
   "id": "4474de90",
   "metadata": {},
   "outputs": [
    {
     "ename": "SyntaxError",
     "evalue": "invalid syntax (3324903462.py, line 1)",
     "output_type": "error",
     "traceback": [
      "\u001b[1;36m  Input \u001b[1;32mIn [12]\u001b[1;36m\u001b[0m\n\u001b[1;33m    global = 1\u001b[0m\n\u001b[1;37m           ^\u001b[0m\n\u001b[1;31mSyntaxError\u001b[0m\u001b[1;31m:\u001b[0m invalid syntax\n"
     ]
    }
   ],
   "source": [
    "#this is not defined for variable\n",
    "global = 1\n",
    "print(global)"
   ]
  },
  {
   "cell_type": "code",
   "execution_count": 13,
   "id": "02f74713",
   "metadata": {},
   "outputs": [
    {
     "name": "stdout",
     "output_type": "stream",
     "text": [
      "1j\n"
     ]
    }
   ],
   "source": [
    "#this is another datatype of complex\n",
    "c=1j\n",
    "print(c)"
   ]
  },
  {
   "cell_type": "code",
   "execution_count": 19,
   "id": "499ee9ce",
   "metadata": {},
   "outputs": [
    {
     "name": "stdout",
     "output_type": "stream",
     "text": [
      "<class 'int'>\n",
      "<class 'str'>\n",
      "<class 'bool'>\n",
      "<class 'float'>\n",
      "<class 'complex'>\n"
     ]
    }
   ],
   "source": [
    "#type int to all \n",
    "a =10\n",
    "print(type(a))\n",
    "c=(str(a))\n",
    "d =(bool(a))\n",
    "e =(float(a))\n",
    "f =(complex(a))\n",
    "print(type(c))\n",
    "print(type(d))\n",
    "print(type(e))\n",
    "print(type(f))"
   ]
  },
  {
   "cell_type": "code",
   "execution_count": 20,
   "id": "3765a0f7",
   "metadata": {},
   "outputs": [
    {
     "name": "stdout",
     "output_type": "stream",
     "text": [
      "<class 'float'>\n",
      "<class 'str'>\n",
      "<class 'bool'>\n",
      "<class 'int'>\n",
      "<class 'complex'>\n"
     ]
    }
   ],
   "source": [
    "#type float to all \n",
    "a =5.00\n",
    "print(type(a))\n",
    "c=(str(a))\n",
    "d =(bool(a))\n",
    "e =(int(a))\n",
    "f =(complex(a))\n",
    "print(type(c))\n",
    "print(type(d))\n",
    "print(type(e))\n",
    "print(type(f))"
   ]
  },
  {
   "cell_type": "code",
   "execution_count": 26,
   "id": "01f31fd9",
   "metadata": {},
   "outputs": [
    {
     "name": "stdout",
     "output_type": "stream",
     "text": [
      "<class 'str'>\n",
      "<class 'str'>\n",
      "<class 'bool'>\n",
      "<class 'int'>\n",
      "<class 'complex'>\n"
     ]
    }
   ],
   "source": [
    "#type str to all \n",
    "a ='(float(a)) -- cannot be assign'\n",
    "print(type(a))\n",
    "#c=(float(a)) -- cannot be assign\n",
    "#d =(bool(a)) -- cannot be assign\n",
    "#e =(int(a)) -- cannot be assign\n",
    "#f =(complex(a)) -- cannot be assign\n",
    "print(type(c))\n",
    "print(type(d))\n",
    "print(type(e))\n",
    "print(type(f))"
   ]
  },
  {
   "cell_type": "code",
   "execution_count": 32,
   "id": "430988ce",
   "metadata": {},
   "outputs": [
    {
     "name": "stdout",
     "output_type": "stream",
     "text": [
      "<class 'bool'>\n",
      "<class 'str'>\n",
      "<class 'int'>\n",
      "<class 'float'>\n",
      "<class 'complex'>\n"
     ]
    }
   ],
   "source": [
    "#type bool to all \n",
    "a =True\n",
    "print(type(a))\n",
    "c=(str(a))\n",
    "d =(int(a))\n",
    "e =(float(a))\n",
    "f =(complex(a))\n",
    "print(type(c))\n",
    "print(type(d))\n",
    "print(type(e))\n",
    "print(type(f))"
   ]
  },
  {
   "cell_type": "code",
   "execution_count": 35,
   "id": "cde8f176",
   "metadata": {},
   "outputs": [
    {
     "name": "stdout",
     "output_type": "stream",
     "text": [
      "<class 'complex'>\n",
      "<class 'str'>\n",
      "<class 'int'>\n",
      "<class 'float'>\n",
      "<class 'bool'>\n"
     ]
    }
   ],
   "source": [
    "#type complex to all \n",
    "a =10j\n",
    "print(type(a))\n",
    "c=(str(a))\n",
    "#e =(float(a)) --cannot be assign\n",
    "f =(bool(a))\n",
    "print(type(c))\n",
    "print(type(d))\n",
    "print(type(e))\n",
    "#d =(int(a)) --cannot be assign\n",
    "print(type(f))"
   ]
  },
  {
   "cell_type": "code",
   "execution_count": null,
   "id": "d0c4b6f9",
   "metadata": {},
   "outputs": [],
   "source": []
  }
 ],
 "metadata": {
  "kernelspec": {
   "display_name": "Python 3 (ipykernel)",
   "language": "python",
   "name": "python3"
  },
  "language_info": {
   "codemirror_mode": {
    "name": "ipython",
    "version": 3
   },
   "file_extension": ".py",
   "mimetype": "text/x-python",
   "name": "python",
   "nbconvert_exporter": "python",
   "pygments_lexer": "ipython3",
   "version": "3.9.12"
  }
 },
 "nbformat": 4,
 "nbformat_minor": 5
}
